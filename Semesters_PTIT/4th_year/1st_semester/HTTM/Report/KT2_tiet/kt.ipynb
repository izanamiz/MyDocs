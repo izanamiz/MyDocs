{
 "cells": [
  {
   "cell_type": "markdown",
   "metadata": {},
   "source": [
    "Sử dung pandas để chuyển các file excel sang csv"
   ]
  },
  {
   "cell_type": "code",
   "execution_count": 2,
   "metadata": {},
   "outputs": [
    {
     "name": "stdout",
     "output_type": "stream",
     "text": [
      "Chuyển đổi hoàn tất.\n"
     ]
    }
   ],
   "source": [
    "import os\n",
    "import pandas as pd\n",
    "\n",
    "# Đường dẫn đến thư mục chứa các file Excel\n",
    "excel_folder = 'DATA_DIEMTHI/'\n",
    "\n",
    "# Đường dẫn đến thư mục chứa các file CSV đầu ra\n",
    "csv_folder = 'DATA_CSV/'\n",
    "\n",
    "# Lặp qua tất cả các file trong thư mục Excel\n",
    "for filename in os.listdir(excel_folder):\n",
    "    if filename.endswith('.xlsx'):  # Kiểm tra nếu file có định dạng Excel\n",
    "        # Đọc file Excel\n",
    "        excel_file_path = os.path.join(excel_folder, filename)\n",
    "        df = pd.read_excel(excel_file_path)\n",
    "\n",
    "        # Tạo tên file CSV đầu ra\n",
    "        csv_filename = filename.replace('.xlsx', '.csv')\n",
    "        csv_file_path = os.path.join(csv_folder, csv_filename)\n",
    "\n",
    "        # Lưu dữ liệu vào file CSV\n",
    "        df.to_csv(csv_file_path, index=False)\n",
    "    else:\n",
    "        csv_filename = filename\n",
    "        csv_file_path = os.path.join(csv_folder, csv_filename)\n",
    "\n",
    "        # Lưu dữ liệu vào file CSV\n",
    "        df.to_csv(csv_file_path, index=False)\n",
    "\n",
    "print(\"Chuyển đổi hoàn tất.\")\n"
   ]
  },
  {
   "cell_type": "markdown",
   "metadata": {},
   "source": [
    "Gộp các file csv thành 1 file data_pttk.csv\n"
   ]
  },
  {
   "cell_type": "code",
   "execution_count": 5,
   "metadata": {},
   "outputs": [
    {
     "name": "stdout",
     "output_type": "stream",
     "text": [
      "Gộp các file CSV thành công và lưu vào data_pttk.csv\n"
     ]
    }
   ],
   "source": [
    "import os\n",
    "import pandas as pd\n",
    "\n",
    "# Đường dẫn đến thư mục chứa các file CSV\n",
    "csv_folder = 'DATA_CSV/'\n",
    "\n",
    "# Danh sách các file CSV trong thư mục\n",
    "csv_files = [f for f in os.listdir(csv_folder) if f.endswith('.csv')]\n",
    "\n",
    "# Khởi tạo DataFrame trống để chứa dữ liệu gộp\n",
    "combined_data = pd.DataFrame()\n",
    "\n",
    "# Lặp qua danh sách các file CSV và đọc chúng vào DataFrame\n",
    "for csv_file in csv_files:\n",
    "    csv_file_path = os.path.join(csv_folder, csv_file)\n",
    "    df = pd.read_csv(csv_file_path)\n",
    "    combined_data = pd.concat([combined_data, df], ignore_index=True)\n",
    "\n",
    "# Đường dẫn và tên file CSV đầu ra\n",
    "output_csv_path = 'data_pttk.csv'\n",
    "\n",
    "# Ghi dữ liệu gộp vào file CSV đầu ra\n",
    "combined_data.to_csv(output_csv_path, index=False)\n",
    "\n",
    "print(\"Gộp các file CSV thành công và lưu vào\", output_csv_path)\n"
   ]
  },
  {
   "cell_type": "markdown",
   "metadata": {},
   "source": [
    "Thực hiện các bước tiền xử lý data như Chap 12"
   ]
  },
  {
   "cell_type": "code",
   "execution_count": 7,
   "metadata": {},
   "outputs": [],
   "source": [
    "import pandas as pd\n",
    "\n",
    "# Đọc dữ liệu từ tập tin CSV đã gộp\n",
    "data = pd.read_csv('data_pttk.csv')\n",
    "\n",
    "# Loại bỏ cột không cần thiết\n",
    "data = data.drop(columns=['Unnamed: 3', 'Unnamed: 5'])\n",
    "\n",
    "# Điền giá trị thiếu\n",
    "data['0.1.1'].fillna(0, inplace=True)  # Điền giá trị 0 cho các ô trống trong cột '0.1.1'\n",
    "\n",
    "# Chuyển đổi dữ liệu văn bản thành số (nếu cần)\n",
    "data['0.1'] = data['0.1'].astype(float)  # Chuyển cột '0.1' thành kiểu float\n",
    "data['0.2'] = data['0.2'].astype(float)  # Chuyển cột '0.2' thành kiểu float\n",
    "\n",
    "# Lưu dữ liệu đã xử lý vào một tập tin CSV mới (nếu cần)\n",
    "data.to_csv('data_pttk_processed.csv', index=False)\n"
   ]
  },
  {
   "cell_type": "markdown",
   "metadata": {},
   "source": [
    "Sử dụng Deep learning với Linear regression để dự đoán điểm thi"
   ]
  },
  {
   "cell_type": "code",
   "execution_count": 1,
   "metadata": {},
   "outputs": [
    {
     "data": {
      "text/html": [
       "<style>#sk-container-id-1 {color: black;background-color: white;}#sk-container-id-1 pre{padding: 0;}#sk-container-id-1 div.sk-toggleable {background-color: white;}#sk-container-id-1 label.sk-toggleable__label {cursor: pointer;display: block;width: 100%;margin-bottom: 0;padding: 0.3em;box-sizing: border-box;text-align: center;}#sk-container-id-1 label.sk-toggleable__label-arrow:before {content: \"▸\";float: left;margin-right: 0.25em;color: #696969;}#sk-container-id-1 label.sk-toggleable__label-arrow:hover:before {color: black;}#sk-container-id-1 div.sk-estimator:hover label.sk-toggleable__label-arrow:before {color: black;}#sk-container-id-1 div.sk-toggleable__content {max-height: 0;max-width: 0;overflow: hidden;text-align: left;background-color: #f0f8ff;}#sk-container-id-1 div.sk-toggleable__content pre {margin: 0.2em;color: black;border-radius: 0.25em;background-color: #f0f8ff;}#sk-container-id-1 input.sk-toggleable__control:checked~div.sk-toggleable__content {max-height: 200px;max-width: 100%;overflow: auto;}#sk-container-id-1 input.sk-toggleable__control:checked~label.sk-toggleable__label-arrow:before {content: \"▾\";}#sk-container-id-1 div.sk-estimator input.sk-toggleable__control:checked~label.sk-toggleable__label {background-color: #d4ebff;}#sk-container-id-1 div.sk-label input.sk-toggleable__control:checked~label.sk-toggleable__label {background-color: #d4ebff;}#sk-container-id-1 input.sk-hidden--visually {border: 0;clip: rect(1px 1px 1px 1px);clip: rect(1px, 1px, 1px, 1px);height: 1px;margin: -1px;overflow: hidden;padding: 0;position: absolute;width: 1px;}#sk-container-id-1 div.sk-estimator {font-family: monospace;background-color: #f0f8ff;border: 1px dotted black;border-radius: 0.25em;box-sizing: border-box;margin-bottom: 0.5em;}#sk-container-id-1 div.sk-estimator:hover {background-color: #d4ebff;}#sk-container-id-1 div.sk-parallel-item::after {content: \"\";width: 100%;border-bottom: 1px solid gray;flex-grow: 1;}#sk-container-id-1 div.sk-label:hover label.sk-toggleable__label {background-color: #d4ebff;}#sk-container-id-1 div.sk-serial::before {content: \"\";position: absolute;border-left: 1px solid gray;box-sizing: border-box;top: 0;bottom: 0;left: 50%;z-index: 0;}#sk-container-id-1 div.sk-serial {display: flex;flex-direction: column;align-items: center;background-color: white;padding-right: 0.2em;padding-left: 0.2em;position: relative;}#sk-container-id-1 div.sk-item {position: relative;z-index: 1;}#sk-container-id-1 div.sk-parallel {display: flex;align-items: stretch;justify-content: center;background-color: white;position: relative;}#sk-container-id-1 div.sk-item::before, #sk-container-id-1 div.sk-parallel-item::before {content: \"\";position: absolute;border-left: 1px solid gray;box-sizing: border-box;top: 0;bottom: 0;left: 50%;z-index: -1;}#sk-container-id-1 div.sk-parallel-item {display: flex;flex-direction: column;z-index: 1;position: relative;background-color: white;}#sk-container-id-1 div.sk-parallel-item:first-child::after {align-self: flex-end;width: 50%;}#sk-container-id-1 div.sk-parallel-item:last-child::after {align-self: flex-start;width: 50%;}#sk-container-id-1 div.sk-parallel-item:only-child::after {width: 0;}#sk-container-id-1 div.sk-dashed-wrapped {border: 1px dashed gray;margin: 0 0.4em 0.5em 0.4em;box-sizing: border-box;padding-bottom: 0.4em;background-color: white;}#sk-container-id-1 div.sk-label label {font-family: monospace;font-weight: bold;display: inline-block;line-height: 1.2em;}#sk-container-id-1 div.sk-label-container {text-align: center;}#sk-container-id-1 div.sk-container {/* jupyter's `normalize.less` sets `[hidden] { display: none; }` but bootstrap.min.css set `[hidden] { display: none !important; }` so we also need the `!important` here to be able to override the default hidden behavior on the sphinx rendered scikit-learn.org. See: https://github.com/scikit-learn/scikit-learn/issues/21755 */display: inline-block !important;position: relative;}#sk-container-id-1 div.sk-text-repr-fallback {display: none;}</style><div id=\"sk-container-id-1\" class=\"sk-top-container\"><div class=\"sk-text-repr-fallback\"><pre>LinearRegression()</pre><b>In a Jupyter environment, please rerun this cell to show the HTML representation or trust the notebook. <br />On GitHub, the HTML representation is unable to render, please try loading this page with nbviewer.org.</b></div><div class=\"sk-container\" hidden><div class=\"sk-item\"><div class=\"sk-estimator sk-toggleable\"><input class=\"sk-toggleable__control sk-hidden--visually\" id=\"sk-estimator-id-1\" type=\"checkbox\" checked><label for=\"sk-estimator-id-1\" class=\"sk-toggleable__label sk-toggleable__label-arrow\">LinearRegression</label><div class=\"sk-toggleable__content\"><pre>LinearRegression()</pre></div></div></div></div></div>"
      ],
      "text/plain": [
       "LinearRegression()"
      ]
     },
     "execution_count": 1,
     "metadata": {},
     "output_type": "execute_result"
    }
   ],
   "source": [
    "import pandas as pd\n",
    "from sklearn.linear_model import LinearRegression\n",
    "\n",
    "# Đọc dữ liệu đã tiền xử lý\n",
    "data = pd.read_csv('data_pttk_processed.csv')\n",
    "\n",
    "# Loại bỏ các dòng có giá trị NaN trong dữ liệu\n",
    "data = data.dropna()\n",
    "\n",
    "# Chuẩn bị dữ liệu huấn luyện\n",
    "X = data[['0.1', '0.2', '0.1.1']]\n",
    "y = data['điểm thi']\n",
    "\n",
    "# Khởi tạo và huấn luyện mô hình hồi quy tuyến tính\n",
    "model = LinearRegression()\n",
    "model.fit(X, y)\n",
    "\n",
    "\n"
   ]
  },
  {
   "cell_type": "code",
   "execution_count": 4,
   "metadata": {},
   "outputs": [
    {
     "name": "stderr",
     "output_type": "stream",
     "text": [
      "c:\\Users\\nguye\\AppData\\Local\\Programs\\Python\\Python311\\Lib\\site-packages\\sklearn\\base.py:439: UserWarning: X does not have valid feature names, but LinearRegression was fitted with feature names\n",
      "  warnings.warn(\n"
     ]
    },
    {
     "name": "stdout",
     "output_type": "stream",
     "text": [
      "Điểm thi dự đoán: 5.637418551870562\n"
     ]
    },
    {
     "name": "stderr",
     "output_type": "stream",
     "text": [
      "c:\\Users\\nguye\\AppData\\Local\\Programs\\Python\\Python311\\Lib\\site-packages\\sklearn\\base.py:439: UserWarning: X does not have valid feature names, but LinearRegression was fitted with feature names\n",
      "  warnings.warn(\n"
     ]
    },
    {
     "name": "stdout",
     "output_type": "stream",
     "text": [
      "Điểm thi dự đoán: -0.08682919686653334\n"
     ]
    },
    {
     "name": "stderr",
     "output_type": "stream",
     "text": [
      "c:\\Users\\nguye\\AppData\\Local\\Programs\\Python\\Python311\\Lib\\site-packages\\sklearn\\base.py:439: UserWarning: X does not have valid feature names, but LinearRegression was fitted with feature names\n",
      "  warnings.warn(\n"
     ]
    },
    {
     "name": "stdout",
     "output_type": "stream",
     "text": [
      "Điểm thi dự đoán: 4.704480562266638\n"
     ]
    },
    {
     "name": "stderr",
     "output_type": "stream",
     "text": [
      "c:\\Users\\nguye\\AppData\\Local\\Programs\\Python\\Python311\\Lib\\site-packages\\sklearn\\base.py:439: UserWarning: X does not have valid feature names, but LinearRegression was fitted with feature names\n",
      "  warnings.warn(\n"
     ]
    },
    {
     "name": "stdout",
     "output_type": "stream",
     "text": [
      "Điểm thi dự đoán: 6.58671937916392\n"
     ]
    }
   ],
   "source": [
    "while True:\n",
    "    try:\n",
    "        # Nhập điểm thành phần từ người dùng\n",
    "        diem1 = float(input(\"Nhập điểm thành phần 1: \"))\n",
    "        diem2 = float(input(\"Nhập điểm thành phần 2: \"))\n",
    "        diem3 = float(input(\"Nhập điểm thành phần 3: \"))\n",
    "\n",
    "        # Dự đoán điểm thi\n",
    "        diem_thi_du_doan = model.predict([[diem1, diem2, diem3]])\n",
    "\n",
    "        print(f\"Điểm thi dự đoán: {diem_thi_du_doan[0]}\")\n",
    "    except ValueError:\n",
    "        print(\"Vui lòng nhập số hợp lệ.\")\n",
    "    \n",
    "    tiep_tuc = input(\"Tiếp tục dự đoán (nhập 'q' để thoát, bất kỳ phím nào để tiếp tục): \")\n",
    "    if tiep_tuc.lower() == 'q':\n",
    "        break"
   ]
  },
  {
   "cell_type": "markdown",
   "metadata": {},
   "source": [
    "Support Vector Machines"
   ]
  },
  {
   "cell_type": "code",
   "execution_count": 7,
   "metadata": {},
   "outputs": [
    {
     "name": "stderr",
     "output_type": "stream",
     "text": [
      "c:\\Users\\nguye\\AppData\\Local\\Programs\\Python\\Python311\\Lib\\site-packages\\sklearn\\base.py:439: UserWarning: X does not have valid feature names, but SVR was fitted with feature names\n",
      "  warnings.warn(\n"
     ]
    },
    {
     "name": "stdout",
     "output_type": "stream",
     "text": [
      "Điểm thi dự đoán: 7.193903749898216\n"
     ]
    }
   ],
   "source": [
    "import pandas as pd\n",
    "from sklearn.svm import SVR\n",
    "\n",
    "# Đọc dữ liệu đã tiền xử lý\n",
    "data = pd.read_csv('data_pttk_processed.csv')\n",
    "data.dropna(subset=['điểm thi'], inplace=True)\n",
    "\n",
    "# Chọn features (điểm thành phần) và target (điểm thi)\n",
    "X = data[['0.1', '0.2', '0.1.1']]\n",
    "y = data['điểm thi']\n",
    "\n",
    "\n",
    "# Khởi tạo và huấn luyện mô hình SVM\n",
    "model = SVR(kernel='linear', C=1.0)\n",
    "model.fit(X, y)\n",
    "\n",
    "while True:\n",
    "    try:\n",
    "        # Nhập điểm thành phần từ bàn phím\n",
    "        diem1 = float(input(\"Nhập điểm thành phần 1: \"))\n",
    "        diem2 = float(input(\"Nhập điểm thành phần 2: \"))\n",
    "        diem3 = float(input(\"Nhập điểm thành phần 3: \"))\n",
    "\n",
    "        # Dự đoán điểm thi\n",
    "        diem_thi_du_doan = model.predict([[diem1, diem2, diem3]])\n",
    "\n",
    "        print(f\"Điểm thi dự đoán: {diem_thi_du_doan[0]}\")\n",
    "    except ValueError:\n",
    "        print(\"Vui lòng nhập số hợp lệ.\")\n",
    "    \n",
    "    tiep_tuc = input(\"Tiếp tục dự đoán (nhập 'q' để thoát, bất kỳ phím nào để tiếp tục): \")\n",
    "    if tiep_tuc.lower() == 'q':\n",
    "        break\n"
   ]
  },
  {
   "cell_type": "markdown",
   "metadata": {},
   "source": [
    "K Nearest Neighbors"
   ]
  },
  {
   "cell_type": "code",
   "execution_count": 1,
   "metadata": {},
   "outputs": [
    {
     "name": "stderr",
     "output_type": "stream",
     "text": [
      "c:\\Users\\nguye\\AppData\\Local\\Programs\\Python\\Python311\\Lib\\site-packages\\sklearn\\base.py:439: UserWarning: X does not have valid feature names, but StandardScaler was fitted with feature names\n",
      "  warnings.warn(\n"
     ]
    },
    {
     "name": "stdout",
     "output_type": "stream",
     "text": [
      "Điểm thi dự đoán: 7.70\n"
     ]
    },
    {
     "name": "stderr",
     "output_type": "stream",
     "text": [
      "c:\\Users\\nguye\\AppData\\Local\\Programs\\Python\\Python311\\Lib\\site-packages\\sklearn\\base.py:439: UserWarning: X does not have valid feature names, but StandardScaler was fitted with feature names\n",
      "  warnings.warn(\n"
     ]
    },
    {
     "name": "stdout",
     "output_type": "stream",
     "text": [
      "Điểm thi dự đoán: 7.55\n"
     ]
    },
    {
     "name": "stderr",
     "output_type": "stream",
     "text": [
      "c:\\Users\\nguye\\AppData\\Local\\Programs\\Python\\Python311\\Lib\\site-packages\\sklearn\\base.py:439: UserWarning: X does not have valid feature names, but StandardScaler was fitted with feature names\n",
      "  warnings.warn(\n"
     ]
    },
    {
     "name": "stdout",
     "output_type": "stream",
     "text": [
      "Điểm thi dự đoán: 7.70\n"
     ]
    }
   ],
   "source": [
    "import pandas as pd\n",
    "from sklearn.model_selection import train_test_split\n",
    "from sklearn.preprocessing import StandardScaler\n",
    "from sklearn.neighbors import KNeighborsRegressor\n",
    "\n",
    "# Đọc dữ liệu từ file CSV đã xử lý\n",
    "data = pd.read_csv('data_pttk_processed.csv')\n",
    "data.dropna(subset=['điểm thi'], inplace=True)\n",
    "# Chia dữ liệu thành features (X) và target (y)\n",
    "X = data[['0.1', '0.1.1', '0.2']]\n",
    "y = data['điểm thi']\n",
    "\n",
    "# Chuẩn hóa dữ liệu\n",
    "scaler = StandardScaler()\n",
    "X = scaler.fit_transform(X)\n",
    "\n",
    "# Chia dữ liệu thành tập huấn luyện và tập kiểm tra\n",
    "X_train, X_test, y_train, y_test = train_test_split(X, y, test_size=0.2, random_state=42)\n",
    "\n",
    "# Khởi tạo và huấn luyện mô hình KNN\n",
    "model = KNeighborsRegressor(n_neighbors=5)\n",
    "model.fit(X_train, y_train)\n",
    "\n",
    "while True:\n",
    "    try:\n",
    "        # Nhập điểm thành phần từ bàn phím\n",
    "        diem1 = float(input(\"Nhập điểm thành phần 1: \"))\n",
    "        diem2 = float(input(\"Nhập điểm thành phần 2: \"))\n",
    "        diem3 = float(input(\"Nhập điểm thành phần 3: \"))\n",
    "\n",
    "        # Dự đoán điểm thi\n",
    "        diem_thi_du_doan = model.predict([[diem1, diem2, diem3]])\n",
    "\n",
    "        print(f\"Điểm thi dự đoán: {diem_thi_du_doan[0]}\")\n",
    "    except ValueError:\n",
    "        print(\"Vui lòng nhập số hợp lệ.\")\n",
    "    \n",
    "    tiep_tuc = input(\"Tiếp tục dự đoán (nhập 'q' để thoát, bất kỳ phím nào để tiếp tục): \")\n",
    "    if tiep_tuc.lower() == 'q':\n",
    "        break\n",
    "\n",
    "# while True:\n",
    "#     try:\n",
    "#         # Nhập điểm thành phần từ bàn phím\n",
    "#         input_values = input(\"Nhập điểm thành phần (cách nhau bởi dấu cách): \").split()\n",
    "#         input_values = [float(val) for val in input_values]\n",
    "\n",
    "#         # Chuẩn hóa dữ liệu đầu vào\n",
    "#         input_values = scaler.transform([input_values])\n",
    "\n",
    "#         # Dự đoán điểm thi\n",
    "#         predicted_score = model.predict(input_values)\n",
    "#         print(f\"Điểm thi dự đoán: {predicted_score[0]:.2f}\")\n",
    "#     except ValueError:\n",
    "#         print(\"Nhập không hợp lệ. Vui lòng nhập lại.\")\n",
    "#     except KeyboardInterrupt:\n",
    "#         break\n",
    "    \n"
   ]
  }
 ],
 "metadata": {
  "kernelspec": {
   "display_name": "Python 3",
   "language": "python",
   "name": "python3"
  },
  "language_info": {
   "codemirror_mode": {
    "name": "ipython",
    "version": 3
   },
   "file_extension": ".py",
   "mimetype": "text/x-python",
   "name": "python",
   "nbconvert_exporter": "python",
   "pygments_lexer": "ipython3",
   "version": "3.11.4"
  },
  "orig_nbformat": 4
 },
 "nbformat": 4,
 "nbformat_minor": 2
}
